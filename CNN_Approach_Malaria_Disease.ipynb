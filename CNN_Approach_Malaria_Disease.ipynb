{
  "nbformat": 4,
  "nbformat_minor": 0,
  "metadata": {
    "colab": {
      "name": "CNN_Approach_Malaria_Disease.ipynb",
      "provenance": []
    },
    "kernelspec": {
      "name": "python3",
      "display_name": "Python 3"
    },
    "accelerator": "GPU"
  },
  "cells": [
    {
      "cell_type": "markdown",
      "metadata": {
        "id": "I2R--k8iJ2uI",
        "colab_type": "text"
      },
      "source": [
        "Downloaing malaria data from kaggle website to a machine provided by colab website."
      ]
    },
    {
      "cell_type": "code",
      "metadata": {
        "id": "XSODp7iTJgUb",
        "colab_type": "code",
        "colab": {
          "resources": {
            "http://localhost:8080/nbextensions/google.colab/files.js": {
              "data": "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",
              "ok": true,
              "headers": [
                [
                  "content-type",
                  "application/javascript"
                ]
              ],
              "status": 200,
              "status_text": ""
            }
          },
          "base_uri": "https://localhost:8080/",
          "height": 109
        },
        "outputId": "9d76b48c-7af2-4482-e334-53ae4fa6a7d4"
      },
      "source": [
        "!pip install -U -q kaggle\n",
        "!mkdir -p ~/.kaggle\n",
        "\n",
        "from google.colab import files\n",
        "files.upload()\n",
        "!cp kaggle.json ~/.kaggle/\n",
        "!kaggle datasets download -d iarunava/cell-images-for-detecting-malaria"
      ],
      "execution_count": 6,
      "outputs": [
        {
          "output_type": "display_data",
          "data": {
            "text/html": [
              "\n",
              "     <input type=\"file\" id=\"files-161df44a-ba59-4264-8243-d15cda04f8df\" name=\"files[]\" multiple disabled />\n",
              "     <output id=\"result-161df44a-ba59-4264-8243-d15cda04f8df\">\n",
              "      Upload widget is only available when the cell has been executed in the\n",
              "      current browser session. Please rerun this cell to enable.\n",
              "      </output>\n",
              "      <script src=\"/nbextensions/google.colab/files.js\"></script> "
            ],
            "text/plain": [
              "<IPython.core.display.HTML object>"
            ]
          },
          "metadata": {
            "tags": []
          }
        },
        {
          "output_type": "stream",
          "text": [
            "Saving kaggle.json to kaggle (1).json\n",
            "Warning: Your Kaggle API key is readable by other users on this system! To fix this, you can run 'chmod 600 /root/.kaggle/kaggle.json'\n",
            "cell-images-for-detecting-malaria.zip: Skipping, found more recently modified local copy (use --force to force download)\n"
          ],
          "name": "stdout"
        }
      ]
    },
    {
      "cell_type": "markdown",
      "metadata": {
        "id": "HRaORsGIKomq",
        "colab_type": "text"
      },
      "source": [
        "Unzip the downloaded data by zipfile library, find name of images by os library,read image files by PIL library and finally save them as matrix by numpy. "
      ]
    },
    {
      "cell_type": "code",
      "metadata": {
        "id": "6V8gGQmDKqkO",
        "colab_type": "code",
        "colab": {
          "base_uri": "https://localhost:8080/",
          "height": 51
        },
        "outputId": "2005f3ee-52c9-468f-997b-98d465cd8186"
      },
      "source": [
        "from zipfile import ZipFile\n",
        "import os\n",
        "from PIL import Image\n",
        "import numpy as np\n",
        "\n",
        "zip_ref = ZipFile('/content/cell-images-for-detecting-malaria.zip', 'r')\n",
        "zip_ref.extractall('/content/Malaria')\n",
        "zip_ref.close()\n",
        "\n",
        "\n",
        "img_rows=44\n",
        "img_cols=44\n",
        "\n",
        "path1='/content/Malaria/cell_images/Parasitized'\n",
        "path2='/content/Malaria/cell_images/Uninfected'\n",
        "\n",
        "listing = os.listdir(path1)\n",
        "num_samples = len(listing)\n",
        "print(num_samples)\n",
        "images=[]\n",
        "for file in listing:\n",
        "  \n",
        "    try:\n",
        "      im=Image.open(path1 + '/' + file)\n",
        "      images.append(np.asarray(im.resize((img_rows, img_cols))))\n",
        "    except:\n",
        "      continue\n",
        "images1 = np.array(images)\n",
        "\n",
        "listing = os.listdir(path2)\n",
        "num_samples = len(listing)-1\n",
        "print(num_samples)\n",
        "images=[]\n",
        "for file in listing:\n",
        "    try:\n",
        "      im=Image.open(path2 + '/' + file)\n",
        "      images.append(np.asarray(im.resize((img_rows, img_cols))))\n",
        "    except:\n",
        "      continue\n",
        "images2 = np.array(images)"
      ],
      "execution_count": 3,
      "outputs": [
        {
          "output_type": "stream",
          "text": [
            "13780\n",
            "13779\n"
          ],
          "name": "stdout"
        }
      ]
    },
    {
      "cell_type": "markdown",
      "metadata": {
        "id": "NeexxtXzKrc7",
        "colab_type": "text"
      },
      "source": [
        "load necessary library for next step. "
      ]
    },
    {
      "cell_type": "code",
      "metadata": {
        "id": "hjOoPmb2Kr74",
        "colab_type": "code",
        "colab": {
          "base_uri": "https://localhost:8080/",
          "height": 80
        },
        "outputId": "c5d4d544-3695-4357-89c9-2ad0d5a16cbd"
      },
      "source": [
        "\n",
        "from time import time \n",
        "\n",
        "\n",
        "# KERAS\n",
        "import tensorflow as tf\n",
        "from keras.models import Sequential\n",
        "from keras.layers.core import Dense, Dropout, Activation, Flatten\n",
        "from keras.layers.convolutional import Convolution2D as Conv2D\n",
        "from keras.layers.convolutional import MaxPooling2D, AveragePooling2D\n",
        "from keras.optimizers import SGD, RMSprop, Adam\n",
        "from keras.losses import categorical_crossentropy\n",
        "from keras.layers.normalization import BatchNormalization\n",
        "from keras import optimizers\n",
        "from keras.utils import np_utils\n",
        "from keras import regularizers\n",
        "from tensorflow.python.keras.callbacks import TensorBoard\n",
        "\n",
        "\n",
        "\n",
        "import numpy as np\n",
        "import matplotlib.pyplot as plt\n",
        "import matplotlib\n",
        "import os\n",
        "# SKLEARN\n",
        "from sklearn.utils import shuffle"
      ],
      "execution_count": 4,
      "outputs": [
        {
          "output_type": "display_data",
          "data": {
            "text/html": [
              "<p style=\"color: red;\">\n",
              "The default version of TensorFlow in Colab will soon switch to TensorFlow 2.x.<br>\n",
              "We recommend you <a href=\"https://www.tensorflow.org/guide/migrate\" target=\"_blank\">upgrade</a> now \n",
              "or ensure your notebook will continue to use TensorFlow 1.x via the <code>%tensorflow_version 1.x</code> magic:\n",
              "<a href=\"https://colab.research.google.com/notebooks/tensorflow_version.ipynb\" target=\"_blank\">more info</a>.</p>\n"
            ],
            "text/plain": [
              "<IPython.core.display.HTML object>"
            ]
          },
          "metadata": {
            "tags": []
          }
        },
        {
          "output_type": "stream",
          "text": [
            "Using TensorFlow backend.\n"
          ],
          "name": "stderr"
        }
      ]
    },
    {
      "cell_type": "markdown",
      "metadata": {
        "id": "lgl_-nubM-YX",
        "colab_type": "text"
      },
      "source": [
        "constract lable matrix for softmax layer then merge innfected and unifected image in one matrix. after that normalize, shufle and divide data in three group, train, validation and test. finally train proposed model using data."
      ]
    },
    {
      "cell_type": "code",
      "metadata": {
        "id": "vQ-44NF2M-0e",
        "colab_type": "code",
        "colab": {
          "base_uri": "https://localhost:8080/",
          "height": 1000
        },
        "outputId": "098654df-2960-444a-c66e-1b35a02a95c5"
      },
      "source": [
        "label=np.zeros((num_samples*2,2))\n",
        "label[:num_samples,0]=1\n",
        "label[num_samples:,1]=1\n",
        "\n",
        "data=np.zeros((num_samples*2,44,44,3))\n",
        "data[:num_samples,:,:,:]=images1\n",
        "data[num_samples:num_samples*2,:,:,:]=images2\n",
        "\n",
        "data=data/255.0\n",
        "\n",
        "quee=np.random.permutation(num_samples*2)\n",
        "label=label[quee,:]\n",
        "data=data[quee,:,:,:]\n",
        "\n",
        "print(np.shape(label),np.shape(data))\n",
        "\n",
        "\n",
        "length=len(label)\n",
        "train_count=int(length*0.9)\n",
        "valid_count=int(length*0.05)\n",
        "test_count=length-train_count-valid_count\n",
        "train_data=data[:train_count,:,:,:]\n",
        "train_label=label[:train_count,:]\n",
        "valid_data=data[train_count:train_count+valid_count,:,:,:]\n",
        "valid_label=label[train_count:train_count+valid_count,:]\n",
        "test_data=data[train_count+valid_count:,:,:,:]\n",
        "test_label=label[train_count+valid_count:,:]\n",
        "\n",
        "num_classes=2\n",
        "batch_size=128\n",
        "epochs=70\n",
        "l2_penalty_rate = 0.01\n",
        "FC_neuron_num=128\n",
        "\n",
        "\n",
        "model = Sequential()\n",
        "model.add(Conv2D(64, kernel_size=(3, 3), strides=(1, 1),\n",
        "                 activation='relu',\n",
        "                 input_shape=(44,44,3)))\n",
        "model.add(Conv2D(64, (3, 3), activation='relu'))\n",
        "model.add(MaxPooling2D(pool_size=(2, 2),strides=(2, 2)))\n",
        "\n",
        "\n",
        "model.add(Conv2D(128, kernel_size=(3, 3), strides=(1, 1),\n",
        "                 activation='relu'))\n",
        "model.add(Conv2D(128, (3, 3), activation='linear'))\n",
        "model.add(MaxPooling2D(pool_size=(2, 2),strides=(2, 2)))\n",
        "\n",
        "model.add(Conv2D(256, kernel_size=(3, 3), strides=(1, 1),\n",
        "                 activation='relu'))\n",
        "model.add(Conv2D(256, kernel_size=(3, 3), strides=(1, 1),\n",
        "                 activation='relu'))\n",
        "model.add(MaxPooling2D(pool_size=(2, 2),strides=(2, 2)))\n",
        "\n",
        "\n",
        "model.add(Conv2D(512, kernel_size=(2, 2), strides=(1, 1),\n",
        "                 activation='relu'))\n",
        "\n",
        "model.add(Flatten())\n",
        "\n",
        "model.add(Dense(FC_neuron_num, activation='relu',kernel_regularizer=regularizers.l2(l2_penalty_rate)))\n",
        "model.add(Dense(FC_neuron_num, activation='relu',kernel_regularizer=regularizers.l2(l2_penalty_rate)))\n",
        "model.add(Dense(FC_neuron_num, activation='relu',kernel_regularizer=regularizers.l2(l2_penalty_rate)))\n",
        "model.add(Dense(FC_neuron_num, activation='relu',kernel_regularizer=regularizers.l2(l2_penalty_rate)))\n",
        "model.add(Dense(num_classes, activation=tf.nn.softmax))\n",
        "model.summary()\n",
        "\n",
        "from sklearn.metrics import classification_report, confusion_matrix\n",
        "\n",
        "adam=optimizers.Adam(lr=0.0001, beta_1=0.9, beta_2=0.999, epsilon=None, decay=0.001, amsgrad=False)\n",
        "model.compile(loss=categorical_crossentropy,\n",
        "              optimizer=adam,\n",
        "              metrics=['accuracy'])\n",
        "\n",
        "\n",
        "model.fit(train_data, train_label,\n",
        "          batch_size=batch_size,\n",
        "          epochs=epochs,\n",
        "          verbose=1,\n",
        "          validation_data=(valid_data, valid_label))\n",
        "\n",
        "\n",
        "score = model.evaluate(test_data, test_label, verbose=0)\n",
        "print('Test loss:', score[0])\n",
        "print('Test accuracy:', score[1])"
      ],
      "execution_count": 7,
      "outputs": [
        {
          "output_type": "stream",
          "text": [
            "(27558, 2) (27558, 44, 44, 3)\n",
            "Model: \"sequential_2\"\n",
            "_________________________________________________________________\n",
            "Layer (type)                 Output Shape              Param #   \n",
            "=================================================================\n",
            "conv2d_8 (Conv2D)            (None, 42, 42, 64)        1792      \n",
            "_________________________________________________________________\n",
            "conv2d_9 (Conv2D)            (None, 40, 40, 64)        36928     \n",
            "_________________________________________________________________\n",
            "max_pooling2d_4 (MaxPooling2 (None, 20, 20, 64)        0         \n",
            "_________________________________________________________________\n",
            "conv2d_10 (Conv2D)           (None, 18, 18, 128)       73856     \n",
            "_________________________________________________________________\n",
            "conv2d_11 (Conv2D)           (None, 16, 16, 128)       147584    \n",
            "_________________________________________________________________\n",
            "max_pooling2d_5 (MaxPooling2 (None, 8, 8, 128)         0         \n",
            "_________________________________________________________________\n",
            "conv2d_12 (Conv2D)           (None, 6, 6, 256)         295168    \n",
            "_________________________________________________________________\n",
            "conv2d_13 (Conv2D)           (None, 4, 4, 256)         590080    \n",
            "_________________________________________________________________\n",
            "max_pooling2d_6 (MaxPooling2 (None, 2, 2, 256)         0         \n",
            "_________________________________________________________________\n",
            "conv2d_14 (Conv2D)           (None, 1, 1, 512)         524800    \n",
            "_________________________________________________________________\n",
            "flatten_2 (Flatten)          (None, 512)               0         \n",
            "_________________________________________________________________\n",
            "dense_6 (Dense)              (None, 128)               65664     \n",
            "_________________________________________________________________\n",
            "dense_7 (Dense)              (None, 128)               16512     \n",
            "_________________________________________________________________\n",
            "dense_8 (Dense)              (None, 128)               16512     \n",
            "_________________________________________________________________\n",
            "dense_9 (Dense)              (None, 128)               16512     \n",
            "_________________________________________________________________\n",
            "dense_10 (Dense)             (None, 2)                 258       \n",
            "=================================================================\n",
            "Total params: 1,785,666\n",
            "Trainable params: 1,785,666\n",
            "Non-trainable params: 0\n",
            "_________________________________________________________________\n",
            "Train on 24802 samples, validate on 1377 samples\n",
            "Epoch 1/70\n",
            "24802/24802 [==============================] - 11s 439us/step - loss: 5.4333 - acc: 0.6641 - val_loss: 4.4881 - val_acc: 0.7582\n",
            "Epoch 2/70\n",
            "24802/24802 [==============================] - 10s 408us/step - loss: 3.7819 - acc: 0.8344 - val_loss: 3.1782 - val_acc: 0.8991\n",
            "Epoch 3/70\n",
            "24802/24802 [==============================] - 10s 408us/step - loss: 2.7842 - acc: 0.9198 - val_loss: 2.4648 - val_acc: 0.9274\n",
            "Epoch 4/70\n",
            "24802/24802 [==============================] - 10s 407us/step - loss: 2.2109 - acc: 0.9354 - val_loss: 2.0051 - val_acc: 0.9317\n",
            "Epoch 5/70\n",
            "24802/24802 [==============================] - 10s 407us/step - loss: 1.8249 - acc: 0.9388 - val_loss: 1.6803 - val_acc: 0.9368\n",
            "Epoch 6/70\n",
            "24802/24802 [==============================] - 10s 407us/step - loss: 1.5362 - acc: 0.9436 - val_loss: 1.4321 - val_acc: 0.9426\n",
            "Epoch 7/70\n",
            "24802/24802 [==============================] - 10s 405us/step - loss: 1.3247 - acc: 0.9464 - val_loss: 1.2543 - val_acc: 0.9383\n",
            "Epoch 8/70\n",
            "24802/24802 [==============================] - 10s 407us/step - loss: 1.1553 - acc: 0.9488 - val_loss: 1.1129 - val_acc: 0.9317\n",
            "Epoch 9/70\n",
            "24802/24802 [==============================] - 10s 407us/step - loss: 1.0235 - acc: 0.9511 - val_loss: 0.9970 - val_acc: 0.9412\n",
            "Epoch 10/70\n",
            "24802/24802 [==============================] - 10s 408us/step - loss: 0.9177 - acc: 0.9531 - val_loss: 0.8906 - val_acc: 0.9448\n",
            "Epoch 11/70\n",
            "24802/24802 [==============================] - 10s 408us/step - loss: 0.8307 - acc: 0.9542 - val_loss: 0.8184 - val_acc: 0.9463\n",
            "Epoch 12/70\n",
            "24802/24802 [==============================] - 10s 409us/step - loss: 0.7583 - acc: 0.9542 - val_loss: 0.7498 - val_acc: 0.9463\n",
            "Epoch 13/70\n",
            "24802/24802 [==============================] - 10s 408us/step - loss: 0.6961 - acc: 0.9569 - val_loss: 0.6943 - val_acc: 0.9492\n",
            "Epoch 14/70\n",
            "24802/24802 [==============================] - 10s 404us/step - loss: 0.6447 - acc: 0.9569 - val_loss: 0.6534 - val_acc: 0.9499\n",
            "Epoch 15/70\n",
            "24802/24802 [==============================] - 10s 408us/step - loss: 0.6019 - acc: 0.9578 - val_loss: 0.6100 - val_acc: 0.9506\n",
            "Epoch 16/70\n",
            "24802/24802 [==============================] - 10s 407us/step - loss: 0.5634 - acc: 0.9583 - val_loss: 0.5736 - val_acc: 0.9492\n",
            "Epoch 17/70\n",
            "24802/24802 [==============================] - 10s 404us/step - loss: 0.5303 - acc: 0.9588 - val_loss: 0.5459 - val_acc: 0.9521\n",
            "Epoch 18/70\n",
            "24802/24802 [==============================] - 10s 403us/step - loss: 0.5047 - acc: 0.9588 - val_loss: 0.5160 - val_acc: 0.9506\n",
            "Epoch 19/70\n",
            "24802/24802 [==============================] - 10s 403us/step - loss: 0.4777 - acc: 0.9596 - val_loss: 0.5003 - val_acc: 0.9499\n",
            "Epoch 20/70\n",
            "24802/24802 [==============================] - 10s 408us/step - loss: 0.4558 - acc: 0.9598 - val_loss: 0.4800 - val_acc: 0.9484\n",
            "Epoch 21/70\n",
            "24802/24802 [==============================] - 10s 409us/step - loss: 0.4356 - acc: 0.9614 - val_loss: 0.4715 - val_acc: 0.9448\n",
            "Epoch 22/70\n",
            "24802/24802 [==============================] - 10s 409us/step - loss: 0.4190 - acc: 0.9605 - val_loss: 0.4473 - val_acc: 0.9499\n",
            "Epoch 23/70\n",
            "24802/24802 [==============================] - 10s 406us/step - loss: 0.4037 - acc: 0.9618 - val_loss: 0.4290 - val_acc: 0.9506\n",
            "Epoch 24/70\n",
            "24802/24802 [==============================] - 10s 404us/step - loss: 0.3891 - acc: 0.9613 - val_loss: 0.4112 - val_acc: 0.9557\n",
            "Epoch 25/70\n",
            "24802/24802 [==============================] - 10s 406us/step - loss: 0.3764 - acc: 0.9619 - val_loss: 0.4021 - val_acc: 0.9528\n",
            "Epoch 26/70\n",
            "24802/24802 [==============================] - 10s 407us/step - loss: 0.3671 - acc: 0.9608 - val_loss: 0.3936 - val_acc: 0.9542\n",
            "Epoch 27/70\n",
            "24802/24802 [==============================] - 10s 409us/step - loss: 0.3554 - acc: 0.9620 - val_loss: 0.3825 - val_acc: 0.9528\n",
            "Epoch 28/70\n",
            "24802/24802 [==============================] - 10s 410us/step - loss: 0.3477 - acc: 0.9623 - val_loss: 0.3771 - val_acc: 0.9506\n",
            "Epoch 29/70\n",
            "24802/24802 [==============================] - 10s 408us/step - loss: 0.3380 - acc: 0.9626 - val_loss: 0.3661 - val_acc: 0.9513\n",
            "Epoch 30/70\n",
            "24802/24802 [==============================] - 10s 411us/step - loss: 0.3304 - acc: 0.9631 - val_loss: 0.3628 - val_acc: 0.9477\n",
            "Epoch 31/70\n",
            "24802/24802 [==============================] - 10s 407us/step - loss: 0.3235 - acc: 0.9631 - val_loss: 0.3524 - val_acc: 0.9521\n",
            "Epoch 32/70\n",
            "24802/24802 [==============================] - 10s 405us/step - loss: 0.3173 - acc: 0.9629 - val_loss: 0.3483 - val_acc: 0.9521\n",
            "Epoch 33/70\n",
            "24802/24802 [==============================] - 10s 407us/step - loss: 0.3113 - acc: 0.9634 - val_loss: 0.3412 - val_acc: 0.9506\n",
            "Epoch 34/70\n",
            "24802/24802 [==============================] - 10s 409us/step - loss: 0.3053 - acc: 0.9632 - val_loss: 0.3354 - val_acc: 0.9521\n",
            "Epoch 35/70\n",
            "24802/24802 [==============================] - 10s 408us/step - loss: 0.3012 - acc: 0.9633 - val_loss: 0.3335 - val_acc: 0.9535\n",
            "Epoch 36/70\n",
            "24802/24802 [==============================] - 10s 408us/step - loss: 0.2958 - acc: 0.9640 - val_loss: 0.3281 - val_acc: 0.9513\n",
            "Epoch 37/70\n",
            "24802/24802 [==============================] - 10s 404us/step - loss: 0.2908 - acc: 0.9640 - val_loss: 0.3233 - val_acc: 0.9535\n",
            "Epoch 38/70\n",
            "24802/24802 [==============================] - 10s 408us/step - loss: 0.2873 - acc: 0.9638 - val_loss: 0.3183 - val_acc: 0.9521\n",
            "Epoch 39/70\n",
            "24802/24802 [==============================] - 10s 409us/step - loss: 0.2829 - acc: 0.9638 - val_loss: 0.3199 - val_acc: 0.9542\n",
            "Epoch 40/70\n",
            "24802/24802 [==============================] - 10s 408us/step - loss: 0.2803 - acc: 0.9637 - val_loss: 0.3101 - val_acc: 0.9542\n",
            "Epoch 41/70\n",
            "24802/24802 [==============================] - 10s 408us/step - loss: 0.2748 - acc: 0.9649 - val_loss: 0.3063 - val_acc: 0.9506\n",
            "Epoch 42/70\n",
            "24802/24802 [==============================] - 10s 411us/step - loss: 0.2739 - acc: 0.9651 - val_loss: 0.3055 - val_acc: 0.9542\n",
            "Epoch 43/70\n",
            "24802/24802 [==============================] - 10s 406us/step - loss: 0.2690 - acc: 0.9653 - val_loss: 0.3006 - val_acc: 0.9528\n",
            "Epoch 44/70\n",
            "24802/24802 [==============================] - 10s 406us/step - loss: 0.2655 - acc: 0.9649 - val_loss: 0.2981 - val_acc: 0.9528\n",
            "Epoch 45/70\n",
            "24802/24802 [==============================] - 10s 411us/step - loss: 0.2632 - acc: 0.9649 - val_loss: 0.3015 - val_acc: 0.9550\n",
            "Epoch 46/70\n",
            "24802/24802 [==============================] - 10s 409us/step - loss: 0.2607 - acc: 0.9656 - val_loss: 0.2945 - val_acc: 0.9492\n",
            "Epoch 47/70\n",
            "24802/24802 [==============================] - 10s 406us/step - loss: 0.2575 - acc: 0.9647 - val_loss: 0.2925 - val_acc: 0.9528\n",
            "Epoch 48/70\n",
            "24802/24802 [==============================] - 10s 407us/step - loss: 0.2547 - acc: 0.9658 - val_loss: 0.2892 - val_acc: 0.9513\n",
            "Epoch 49/70\n",
            "24802/24802 [==============================] - 10s 405us/step - loss: 0.2537 - acc: 0.9649 - val_loss: 0.2890 - val_acc: 0.9535\n",
            "Epoch 50/70\n",
            "24802/24802 [==============================] - 10s 410us/step - loss: 0.2502 - acc: 0.9656 - val_loss: 0.2842 - val_acc: 0.9521\n",
            "Epoch 51/70\n",
            "24802/24802 [==============================] - 10s 406us/step - loss: 0.2485 - acc: 0.9654 - val_loss: 0.2840 - val_acc: 0.9521\n",
            "Epoch 52/70\n",
            "24802/24802 [==============================] - 10s 407us/step - loss: 0.2469 - acc: 0.9658 - val_loss: 0.2798 - val_acc: 0.9521\n",
            "Epoch 53/70\n",
            "24802/24802 [==============================] - 10s 407us/step - loss: 0.2444 - acc: 0.9659 - val_loss: 0.2791 - val_acc: 0.9528\n",
            "Epoch 54/70\n",
            "24802/24802 [==============================] - 10s 406us/step - loss: 0.2428 - acc: 0.9657 - val_loss: 0.2808 - val_acc: 0.9521\n",
            "Epoch 55/70\n",
            "24802/24802 [==============================] - 10s 403us/step - loss: 0.2402 - acc: 0.9656 - val_loss: 0.2736 - val_acc: 0.9521\n",
            "Epoch 56/70\n",
            "24802/24802 [==============================] - 10s 409us/step - loss: 0.2390 - acc: 0.9660 - val_loss: 0.2734 - val_acc: 0.9528\n",
            "Epoch 57/70\n",
            "24802/24802 [==============================] - 10s 406us/step - loss: 0.2362 - acc: 0.9663 - val_loss: 0.2714 - val_acc: 0.9521\n",
            "Epoch 58/70\n",
            "24802/24802 [==============================] - 10s 404us/step - loss: 0.2353 - acc: 0.9668 - val_loss: 0.2708 - val_acc: 0.9521\n",
            "Epoch 59/70\n",
            "24802/24802 [==============================] - 10s 410us/step - loss: 0.2337 - acc: 0.9665 - val_loss: 0.2686 - val_acc: 0.9542\n",
            "Epoch 60/70\n",
            "24802/24802 [==============================] - 10s 405us/step - loss: 0.2324 - acc: 0.9661 - val_loss: 0.2682 - val_acc: 0.9535\n",
            "Epoch 61/70\n",
            "24802/24802 [==============================] - 10s 406us/step - loss: 0.2307 - acc: 0.9664 - val_loss: 0.2657 - val_acc: 0.9499\n",
            "Epoch 62/70\n",
            "24802/24802 [==============================] - 10s 408us/step - loss: 0.2291 - acc: 0.9668 - val_loss: 0.2674 - val_acc: 0.9528\n",
            "Epoch 63/70\n",
            "24802/24802 [==============================] - 10s 405us/step - loss: 0.2272 - acc: 0.9666 - val_loss: 0.2692 - val_acc: 0.9528\n",
            "Epoch 64/70\n",
            "24802/24802 [==============================] - 10s 406us/step - loss: 0.2266 - acc: 0.9668 - val_loss: 0.2648 - val_acc: 0.9542\n",
            "Epoch 65/70\n",
            "24802/24802 [==============================] - 10s 406us/step - loss: 0.2252 - acc: 0.9670 - val_loss: 0.2611 - val_acc: 0.9535\n",
            "Epoch 66/70\n",
            "24802/24802 [==============================] - 10s 405us/step - loss: 0.2236 - acc: 0.9665 - val_loss: 0.2612 - val_acc: 0.9535\n",
            "Epoch 67/70\n",
            "24802/24802 [==============================] - 10s 407us/step - loss: 0.2226 - acc: 0.9671 - val_loss: 0.2647 - val_acc: 0.9542\n",
            "Epoch 68/70\n",
            "24802/24802 [==============================] - 10s 409us/step - loss: 0.2206 - acc: 0.9671 - val_loss: 0.2591 - val_acc: 0.9521\n",
            "Epoch 69/70\n",
            "24802/24802 [==============================] - 10s 410us/step - loss: 0.2207 - acc: 0.9671 - val_loss: 0.2558 - val_acc: 0.9528\n",
            "Epoch 70/70\n",
            "24802/24802 [==============================] - 10s 408us/step - loss: 0.2184 - acc: 0.9678 - val_loss: 0.2556 - val_acc: 0.9528\n",
            "Test loss: 0.23090752201766704\n",
            "Test accuracy: 0.9586656997824511\n"
          ],
          "name": "stdout"
        }
      ]
    },
    {
      "cell_type": "markdown",
      "metadata": {
        "id": "3pmnsu5vSJ7e",
        "colab_type": "text"
      },
      "source": [
        "Extract feature from last layer of the proposed model in order to use it this new data to train SVM model."
      ]
    },
    {
      "cell_type": "code",
      "metadata": {
        "id": "AyXZisW9SKPj",
        "colab_type": "code",
        "colab": {}
      },
      "source": [
        "from keras.models import Model\n",
        "layer_name = 'dense_9'\n",
        "inter_layer_model = Model(inputs = model.input, outputs = model.get_layer(layer_name).output)\n",
        "X_train = inter_layer_model.predict(train_data)\n",
        "X_test = inter_layer_model.predict(test_data)\n",
        "X_valid = inter_layer_model.predict(valid_data)\n",
        "y_train = train_label[:,0]\n",
        "y_test = test_label[:,0]\n",
        "y_valid = valid_label[:,0]"
      ],
      "execution_count": 0,
      "outputs": []
    },
    {
      "cell_type": "markdown",
      "metadata": {
        "id": "fF8Mfgi5SKhK",
        "colab_type": "text"
      },
      "source": [
        "Train SVM models and find best model using grid search."
      ]
    },
    {
      "cell_type": "code",
      "metadata": {
        "id": "jiSuWKtiSKvO",
        "colab_type": "code",
        "colab": {
          "base_uri": "https://localhost:8080/",
          "height": 272
        },
        "outputId": "754c4196-4d61-4cb2-f8ef-2677b4844e1c"
      },
      "source": [
        "from sklearn.svm import SVC\n",
        "from sklearn import decomposition\n",
        "from sklearn.pipeline import Pipeline\n",
        "from sklearn.model_selection import GridSearchCV\n",
        "\n",
        "models = Pipeline([('svc', SVC())])\n",
        "\n",
        "polynomial = {'svc__kernel': ['polynomial'], 'svc__C': [1e-4, 1e-3, 1e-2, 1e-1, 1, 10,100,1000],\n",
        "              'svc__degree': [2,3,4,5], 'svc__coef0': [1e-4, 1e-3, 1e-2, 1e-1, 1, 10,100,1000]}\n",
        "linear = {'svc__kernel': ['linear'], 'svc__C': [1e-4, 1e-3, 1e-2, 1e-1, 1, 10,100,1000]}\n",
        "rbf = {'svc__kernel': ['rbf'], 'svc__C': [1e-4, 1e-3, 1e-2, 1e-1, 1, 10,100,1000],\n",
        "       'svc__gamma': [1e-4, 1e-3, 1e-2, 1e-1, 1, 10,100, 1000]}\n",
        "params = []\n",
        "#params.append(polynomial)\n",
        "params.append(linear)\n",
        "#params.append(rbf)\n",
        "print('h')\n",
        "grid = GridSearchCV(models, param_grid=params, cv=5)\n",
        "grid.fit(X_train, y_train)\n",
        "print('h')\n",
        "print (\"score = %3.2f\" %(grid.score(X_test,y_test)))\n",
        "print (grid.best_params_)\n",
        "\n",
        "\n",
        "y_pred = grid.predict(X_test)\n",
        "\n",
        "def normalize(confusion):\n",
        "    confusion = confusion.astype(float)\n",
        "    count = np.sum(confusion, axis=1)\n",
        "    for i in range(len(count)):\n",
        "        confusion[i,:] = confusion[i,:]/count[i]\n",
        "    return confusion\n",
        "\n",
        "print(normalize(confusion_matrix(y_test,y_pred)))\n",
        "print(classification_report(y_test,y_pred))"
      ],
      "execution_count": 11,
      "outputs": [
        {
          "output_type": "stream",
          "text": [
            "h\n",
            "h\n",
            "score = 0.96\n",
            "{'svc__C': 1, 'svc__kernel': 'linear'}\n",
            "[[0.96226415 0.03773585]\n",
            " [0.04202899 0.95797101]]\n",
            "              precision    recall  f1-score   support\n",
            "\n",
            "         0.0       0.96      0.96      0.96       689\n",
            "         1.0       0.96      0.96      0.96       690\n",
            "\n",
            "    accuracy                           0.96      1379\n",
            "   macro avg       0.96      0.96      0.96      1379\n",
            "weighted avg       0.96      0.96      0.96      1379\n",
            "\n"
          ],
          "name": "stdout"
        }
      ]
    }
  ]
}